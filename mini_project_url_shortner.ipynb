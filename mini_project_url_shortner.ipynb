{
 "cells": [
  {
   "cell_type": "code",
   "execution_count": 14,
   "id": "32f97f6a",
   "metadata": {
    "ExecuteTime": {
     "end_time": "2023-06-29T20:17:44.800869Z",
     "start_time": "2023-06-29T20:17:42.254883Z"
    }
   },
   "outputs": [
    {
     "name": "stdout",
     "output_type": "stream",
     "text": [
      "enter the url: https://www.amazon.in/?&ext_vrnc=hi&tag=googhydrabk1-21&ref=pd_sl_7hz2t19t5c_e&adgrpid=58355126069&hvpone=&hvptwo=&hvadid=610644601173&hvpos=&hvnetw=g&hvrand=5295341801427526529&hvqmt=e&hvdev=c&hvdvcmdl=&hvlocint=&hvlocphy=1007809&hvtargid=kwd-10573980&hydadcr=14453_2316415\n",
      "\n",
      "\n",
      "This is the shortened URL: https://tinyurl.com/27u5ts25\n"
     ]
    }
   ],
   "source": [
    "def shorten():\n",
    "    import pyshorteners\n",
    "    url = input(\"enter the url: \")\n",
    "    s = pyshorteners.Shortener()\n",
    "    print(\"\\n\")\n",
    "    print(\"This is the shortened URL:\", s.tinyurl.short(url))\n",
    "    \n",
    "shorten()"
   ]
  },
  {
   "cell_type": "code",
   "execution_count": null,
   "id": "51b09651",
   "metadata": {},
   "outputs": [],
   "source": []
  }
 ],
 "metadata": {
  "kernelspec": {
   "display_name": "Python 3 (ipykernel)",
   "language": "python",
   "name": "python3"
  },
  "language_info": {
   "codemirror_mode": {
    "name": "ipython",
    "version": 3
   },
   "file_extension": ".py",
   "mimetype": "text/x-python",
   "name": "python",
   "nbconvert_exporter": "python",
   "pygments_lexer": "ipython3",
   "version": "3.9.12"
  }
 },
 "nbformat": 4,
 "nbformat_minor": 5
}
